{
  "cells": [
    {
      "cell_type": "markdown",
      "metadata": {
        "id": "view-in-github",
        "colab_type": "text"
      },
      "source": [
        "<a href=\"https://colab.research.google.com/github/Anu-Oluwa-Po/HandWritten-Digits-Prediction/blob/main/Deep_Learning(Handwritten_Digit_Prediction).ipynb\" target=\"_parent\"><img src=\"https://colab.research.google.com/assets/colab-badge.svg\" alt=\"Open In Colab\"/></a>"
      ]
    },
    {
      "cell_type": "code",
      "execution_count": 1,
      "metadata": {
        "id": "s1i7knSGl9Dj"
      },
      "outputs": [],
      "source": [
        "import numpy as np\n",
        "import matplotlib.pyplot as plt\n",
        "import tensorflow as tf\n",
        "from tensorflow import keras\n",
        "from tensorflow.keras import Sequential\n",
        "from tensorflow.keras.layers import Dense\n",
        "from tensorflow.keras.layers import Rescaling\n",
        "from tensorflow.keras.layers import Conv2D #feature extraction\n",
        "from tensorflow.keras.layers import MaxPool2D #Dimensionality reduction\n",
        "from tensorflow.keras.layers import Flatten #dimension compatibility\n",
        "from tensorflow.keras.layers import Dropout #prevent overfitting"
      ]
    },
    {
      "cell_type": "code",
      "execution_count": 2,
      "metadata": {
        "colab": {
          "base_uri": "https://localhost:8080/"
        },
        "id": "dM3m3Dci0MA9",
        "outputId": "b16ad794-b28e-4bc4-984c-b69b4d0d1f51"
      },
      "outputs": [
        {
          "output_type": "stream",
          "name": "stdout",
          "text": [
            "Training data: (60000, 28, 28), (60000,)\n",
            "Test data: (10000, 28, 28), (10000,)\n"
          ]
        }
      ],
      "source": [
        "mnist = keras.datasets.mnist\n",
        "\n",
        "(train_images, train_labels), (test_images, test_labels) = mnist.load_data()\n",
        "print(\"Training data: {}, {}\".format(train_images.shape, train_labels.shape))\n",
        "print(\"Test data: {}, {}\".format(test_images.shape, test_labels.shape))"
      ]
    },
    {
      "cell_type": "code",
      "execution_count": 3,
      "metadata": {
        "colab": {
          "base_uri": "https://localhost:8080/"
        },
        "id": "x1t0Mjyxs_6x",
        "outputId": "f9da2827-35b0-45a7-a27c-9df775ec329b"
      },
      "outputs": [
        {
          "output_type": "stream",
          "name": "stdout",
          "text": [
            "There are 10 classes in the dataset. They are: [0 1 2 3 4 5 6 7 8 9]\n"
          ]
        }
      ],
      "source": [
        "class_labels = np.unique(train_labels)\n",
        "print(\"There are {} classes in the dataset. They are: {}\".format(len(class_labels), class_labels))"
      ]
    },
    {
      "cell_type": "code",
      "execution_count": 4,
      "metadata": {
        "colab": {
          "base_uri": "https://localhost:8080/",
          "height": 265
        },
        "id": "Vhb8agVqux70",
        "outputId": "ae225c82-dbf8-4230-8332-bd66d0f33962"
      },
      "outputs": [
        {
          "output_type": "display_data",
          "data": {
            "text/plain": [
              "<Figure size 800x500 with 3 Axes>"
            ],
            "image/png": "[encoded data removed]"
          },
          "metadata": {}
        }
      ],
      "source": [
        "plt.figure(figsize=(8, 5))\n",
        "\n",
        "plt.subplot(1,3,1)\n",
        "plt.imshow(train_images[2300])\n",
        "plt.title(\"Label: {}\".format(train_labels[2300]))\n",
        "\n",
        "plt.subplot(1,3,2)\n",
        "plt.imshow(train_images[34500])\n",
        "plt.title(\"Label: {}\".format(train_labels[34500]))\n",
        "\n",
        "plt.subplot(1,3,3)\n",
        "plt.title(\"Label: {}\".format(test_labels[7]))\n",
        "plt.imshow(test_images[7])\n",
        "\n",
        "plt.show()"
      ]
    },
    {
      "cell_type": "code",
      "execution_count": 5,
      "metadata": {
        "colab": {
          "base_uri": "https://localhost:8080/"
        },
        "id": "CFY60tzk37We",
        "outputId": "a210c170-404c-4d88-a82a-9ba98ac6cf95"
      },
      "outputs": [
        {
          "output_type": "stream",
          "name": "stdout",
          "text": [
            "(60000, 28, 28, 1)\n",
            "(10000, 28, 28, 1)\n"
          ]
        }
      ],
      "source": [
        "train_images = train_images.reshape([train_images.shape[0], train_images.shape[1], train_images.shape[2], 1])\n",
        "test_images = test_images.reshape([test_images.shape[0], test_images.shape[1], test_images.shape[2], 1])\n",
        "\n",
        "print(train_images.shape)\n",
        "print(test_images.shape)"
      ]
    },
    {
      "cell_type": "code",
      "execution_count": 6,
      "metadata": {
        "id": "6UaMtz7K5yt6"
      },
      "outputs": [],
      "source": [
        "#Rescaling - improve training performance\n",
        "#train_images = train_images.astype('float32')/ 255.0\n",
        "#test_images = test_images.astype('float32')/ 255.0"
      ]
    },
    {
      "cell_type": "code",
      "execution_count": 7,
      "metadata": {
        "id": "N9SMib4F6SHr"
      },
      "outputs": [],
      "source": [
        "input_shape = train_images.shape[1:]\n",
        "n_class = len(np.unique(train_labels))"
      ]
    },
    {
      "cell_type": "code",
      "execution_count": 8,
      "metadata": {
        "id": "FaJEn7Tf6SNq",
        "colab": {
          "base_uri": "https://localhost:8080/"
        },
        "outputId": "87a37e18-d327-42fb-e778-019ab90b62bf"
      },
      "outputs": [
        {
          "output_type": "stream",
          "name": "stderr",
          "text": [
            "/usr/local/lib/python3.11/dist-packages/keras/src/layers/preprocessing/tf_data_layer.py:19: UserWarning: Do not pass an `input_shape`/`input_dim` argument to a layer. When using Sequential models, prefer using an `Input(shape)` object as the first layer in the model instead.\n",
            "  super().__init__(**kwargs)\n",
            "/usr/local/lib/python3.11/dist-packages/keras/src/layers/convolutional/base_conv.py:107: UserWarning: Do not pass an `input_shape`/`input_dim` argument to a layer. When using Sequential models, prefer using an `Input(shape)` object as the first layer in the model instead.\n",
            "  super().__init__(activity_regularizer=activity_regularizer, **kwargs)\n"
          ]
        }
      ],
      "source": [
        "model = Sequential()\n",
        "model.add(Rescaling(1./255, input_shape=(28, 28, 1)))\n",
        "model.add(Conv2D(64, (3,3), activation='relu', input_shape=input_shape))\n",
        "model.add(MaxPool2D((2, 2)))\n",
        "model.add(Conv2D(32, (3,3), activation='relu'))\n",
        "model.add(MaxPool2D((2, 2)))\n",
        "model.add(Flatten())\n",
        "model.add(Dense(50, activation='relu'))\n",
        "model.add(Dropout(0.5))\n",
        "model.add(Dense(n_class, activation='softmax'))"
      ]
    },
    {
      "cell_type": "code",
      "execution_count": 9,
      "metadata": {
        "id": "32ROjyq27nD7"
      },
      "outputs": [],
      "source": [
        "model.compile(optimizer = \"adam\", loss=\"sparse_categorical_crossentropy\", metrics=['accuracy'])"
      ]
    },
    {
      "cell_type": "code",
      "execution_count": 10,
      "metadata": {
        "colab": {
          "base_uri": "https://localhost:8080/"
        },
        "id": "_-kwCDiZ7nF6",
        "outputId": "03980cac-f929-49a1-a791-8bae5bf5b9f8"
      },
      "outputs": [
        {
          "output_type": "stream",
          "name": "stdout",
          "text": [
            "Epoch 1/10\n",
            "\u001b[1m469/469\u001b[0m \u001b[32m━━━━━━━━━━━━━━━━━━━━\u001b[0m\u001b[37m\u001b[0m \u001b[1m77s\u001b[0m 157ms/step - accuracy: 0.7004 - loss: 0.9069\n",
            "Epoch 2/10\n",
            "\u001b[1m469/469\u001b[0m \u001b[32m━━━━━━━━━━━━━━━━━━━━\u001b[0m\u001b[37m\u001b[0m \u001b[1m75s\u001b[0m 145ms/step - accuracy: 0.9399 - loss: 0.1988\n",
            "Epoch 3/10\n",
            "\u001b[1m469/469\u001b[0m \u001b[32m━━━━━━━━━━━━━━━━━━━━\u001b[0m\u001b[37m\u001b[0m \u001b[1m81s\u001b[0m 144ms/step - accuracy: 0.9562 - loss: 0.1464\n",
            "Epoch 4/10\n",
            "\u001b[1m469/469\u001b[0m \u001b[32m━━━━━━━━━━━━━━━━━━━━\u001b[0m\u001b[37m\u001b[0m \u001b[1m66s\u001b[0m 140ms/step - accuracy: 0.9625 - loss: 0.1262\n",
            "Epoch 5/10\n",
            "\u001b[1m469/469\u001b[0m \u001b[32m━━━━━━━━━━━━━━━━━━━━\u001b[0m\u001b[37m\u001b[0m \u001b[1m81s\u001b[0m 139ms/step - accuracy: 0.9675 - loss: 0.1078\n",
            "Epoch 6/10\n",
            "\u001b[1m469/469\u001b[0m \u001b[32m━━━━━━━━━━━━━━━━━━━━\u001b[0m\u001b[37m\u001b[0m \u001b[1m79s\u001b[0m 134ms/step - accuracy: 0.9690 - loss: 0.1013\n",
            "Epoch 7/10\n",
            "\u001b[1m469/469\u001b[0m \u001b[32m━━━━━━━━━━━━━━━━━━━━\u001b[0m\u001b[37m\u001b[0m \u001b[1m82s\u001b[0m 134ms/step - accuracy: 0.9723 - loss: 0.0908\n",
            "Epoch 8/10\n",
            "\u001b[1m469/469\u001b[0m \u001b[32m━━━━━━━━━━━━━━━━━━━━\u001b[0m\u001b[37m\u001b[0m \u001b[1m86s\u001b[0m 143ms/step - accuracy: 0.9758 - loss: 0.0779\n",
            "Epoch 9/10\n",
            "\u001b[1m469/469\u001b[0m \u001b[32m━━━━━━━━━━━━━━━━━━━━\u001b[0m\u001b[37m\u001b[0m \u001b[1m63s\u001b[0m 135ms/step - accuracy: 0.9752 - loss: 0.0784\n",
            "Epoch 10/10\n",
            "\u001b[1m469/469\u001b[0m \u001b[32m━━━━━━━━━━━━━━━━━━━━\u001b[0m\u001b[37m\u001b[0m \u001b[1m67s\u001b[0m 143ms/step - accuracy: 0.9777 - loss: 0.0709\n"
          ]
        },
        {
          "output_type": "execute_result",
          "data": {
            "text/plain": [
              "<keras.src.callbacks.history.History at 0x7a57e94db450>"
            ]
          },
          "metadata": {},
          "execution_count": 10
        }
      ],
      "source": [
        "model.fit(train_images, train_labels, epochs=10, batch_size=128, verbose=1)"
      ]
    },
    {
      "cell_type": "code",
      "execution_count": 11,
      "metadata": {
        "colab": {
          "base_uri": "https://localhost:8080/"
        },
        "id": "MFcnalV87nJA",
        "outputId": "a500536b-7be5-4ff0-eb83-3b23cb434440"
      },
      "outputs": [
        {
          "output_type": "stream",
          "name": "stdout",
          "text": [
            "import numpy as np\n",
            "import matplotlib.pyplot as plt\n",
            "import tensorflow as tf\n",
            "from tensorflow import keras\n",
            "from tensorflow.keras import Sequential\n",
            "from tensorflow.keras.layers import Dense\n",
            "from tensorflow.keras.layers import Rescaling\n",
            "from tensorflow.keras.layers import Conv2D #feature extraction\n",
            "from tensorflow.keras.layers import MaxPool2D #Dimensionality reduction\n",
            "from tensorflow.keras.layers import Flatten #dimension compatibility\n",
            "from tensorflow.keras.layers import Dropout #prevent overfitting\n",
            "mnist = keras.datasets.mnist\n",
            "\n",
            "(train_images, train_labels), (test_images, test_labels) = mnist.load_data()\n",
            "print(\"Training data: {}, {}\".format(train_images.shape, train_labels.shape))\n",
            "print(\"Test data: {}, {}\".format(test_images.shape, test_labels.shape))\n",
            "class_labels = np.unique(train_labels)\n",
            "print(\"There are {} classes in the dataset. They are: {}\".format(len(class_labels), class_labels))\n",
            "plt.figure(figsize=(8, 5))\n",
            "\n",
            "plt.subplot(1,3,1)\n",
            "plt.imshow(train_images[2300])\n",
            "plt.title(\"Label: {}\".format(train_labels[2300]))\n",
            "\n",
            "plt.subplot(1,3,2)\n",
            "plt.imshow(train_images[34500])\n",
            "plt.title(\"Label: {}\".format(train_labels[34500]))\n",
            "\n",
            "plt.subplot(1,3,3)\n",
            "plt.title(\"Label: {}\".format(test_labels[7]))\n",
            "plt.imshow(test_images[7])\n",
            "\n",
            "plt.show()\n",
            "train_images = train_images.reshape([train_images.shape[0], train_images.shape[1], train_images.shape[2], 1])\n",
            "test_images = test_images.reshape([test_images.shape[0], test_images.shape[1], test_images.shape[2], 1])\n",
            "\n",
            "print(train_images.shape)\n",
            "print(test_images.shape)\n",
            "#Rescaling - improve training performance\n",
            "#train_images = train_images.astype('float32')/ 255.0\n",
            "#test_images = test_images.astype('float32')/ 255.0\n",
            "input_shape = train_images.shape[1:]\n",
            "n_class = len(np.unique(train_labels))\n",
            "model = Sequential()\n",
            "model.add(Rescaling(1./255, input_shape=(28, 28, 1)))\n",
            "model.add(Conv2D(64, (3,3), activation='relu', input_shape=input_shape))\n",
            "model.add(MaxPool2D((2, 2)))\n",
            "model.add(Conv2D(32, (3,3), activation='relu'))\n",
            "model.add(MaxPool2D((2, 2)))\n",
            "model.add(Flatten())\n",
            "model.add(Dense(50, activation='relu'))\n",
            "model.add(Dropout(0.5))\n",
            "model.add(Dense(n_class, activation='softmax'))\n",
            "model.compile(optimizer = \"adam\", loss=\"sparse_categorical_crossentropy\", metrics=['accuracy'])\n",
            "model.fit(train_images, train_labels, epochs=10, batch_size=128, verbose=1)\n",
            "history\n"
          ]
        }
      ],
      "source": [
        "history"
      ]
    },
    {
      "cell_type": "code",
      "execution_count": 12,
      "metadata": {
        "colab": {
          "base_uri": "https://localhost:8080/"
        },
        "id": "KDJjyQiG7nKV",
        "outputId": "b1710db4-3440-4a5c-e4d3-32cf9ee8718d"
      },
      "outputs": [
        {
          "output_type": "stream",
          "name": "stdout",
          "text": [
            "Accuracy::  0.9901999831199646\n",
            "Loss::  0.030289528891444206\n"
          ]
        }
      ],
      "source": [
        "loss, acc = model.evaluate(test_images, test_labels, verbose = 0)\n",
        "print(\"Accuracy:: \", acc)\n",
        "print(\"Loss:: \", loss)"
      ]
    },
    {
      "cell_type": "code",
      "execution_count": 13,
      "metadata": {
        "colab": {
          "base_uri": "https://localhost:8080/"
        },
        "id": "Eau81tglKRhb",
        "outputId": "76171918-349e-474a-d05f-b7558d1e6b15"
      },
      "outputs": [
        {
          "output_type": "stream",
          "name": "stdout",
          "text": [
            "\u001b[1m313/313\u001b[0m \u001b[32m━━━━━━━━━━━━━━━━━━━━\u001b[0m\u001b[37m\u001b[0m \u001b[1m3s\u001b[0m 10ms/step\n"
          ]
        }
      ],
      "source": [
        "y_pred = model.predict(test_images)"
      ]
    },
    {
      "cell_type": "code",
      "execution_count": 14,
      "metadata": {
        "colab": {
          "base_uri": "https://localhost:8080/"
        },
        "id": "dZ9sowLaLCgZ",
        "outputId": "34592e44-a226-446b-f2dd-4c52a89f96fa"
      },
      "outputs": [
        {
          "output_type": "execute_result",
          "data": {
            "text/plain": [
              "array([4.1129222e-10, 5.0293648e-11, 1.6273564e-09, 4.5631201e-09,\n",
              "       8.5849562e-05, 5.2507289e-08, 1.7360785e-10, 5.6334166e-11,\n",
              "       2.8385311e-05, 9.9988562e-01], dtype=float32)"
            ]
          },
          "metadata": {},
          "execution_count": 14
        }
      ],
      "source": [
        "y_pred[7]"
      ]
    },
    {
      "cell_type": "code",
      "execution_count": 15,
      "metadata": {
        "colab": {
          "base_uri": "https://localhost:8080/"
        },
        "id": "50_3tNAKNNYP",
        "outputId": "57cf09ae-15a4-4f4c-8b25-e9bc774d04d2"
      },
      "outputs": [
        {
          "output_type": "execute_result",
          "data": {
            "text/plain": [
              "np.int64(9)"
            ]
          },
          "metadata": {},
          "execution_count": 15
        }
      ],
      "source": [
        "np.argmax(y_pred[7])"
      ]
    },
    {
      "cell_type": "code",
      "execution_count": 16,
      "metadata": {
        "colab": {
          "base_uri": "https://localhost:8080/"
        },
        "id": "ndT4_HWgNSGN",
        "outputId": "21a16c3d-b477-424f-cf2d-f6cdee48e7ec"
      },
      "outputs": [
        {
          "output_type": "execute_result",
          "data": {
            "text/plain": [
              "np.uint8(9)"
            ]
          },
          "metadata": {},
          "execution_count": 16
        }
      ],
      "source": [
        "test_labels[7]"
      ]
    },
    {
      "cell_type": "code",
      "source": [
        "y_pred[100]"
      ],
      "metadata": {
        "colab": {
          "base_uri": "https://localhost:8080/"
        },
        "id": "ZH8jquVF-3tD",
        "outputId": "3a550b4a-c330-42a1-d543-0f4b40477621"
      },
      "execution_count": 18,
      "outputs": [
        {
          "output_type": "execute_result",
          "data": {
            "text/plain": [
              "array([7.2411295e-09, 1.7868590e-11, 1.5267398e-13, 3.1514301e-17,\n",
              "       2.5570814e-09, 2.6617502e-07, 9.9999970e-01, 5.4554691e-19,\n",
              "       4.2264917e-10, 5.8743911e-16], dtype=float32)"
            ]
          },
          "metadata": {},
          "execution_count": 18
        }
      ]
    },
    {
      "cell_type": "code",
      "source": [
        "np.argmax(y_pred[100])"
      ],
      "metadata": {
        "colab": {
          "base_uri": "https://localhost:8080/"
        },
        "id": "MwN-M15D-3ex",
        "outputId": "5ef22222-0a51-48f7-cbc9-2e98279242b4"
      },
      "execution_count": 19,
      "outputs": [
        {
          "output_type": "execute_result",
          "data": {
            "text/plain": [
              "np.int64(6)"
            ]
          },
          "metadata": {},
          "execution_count": 19
        }
      ]
    },
    {
      "cell_type": "code",
      "source": [
        "test_labels[100]"
      ],
      "metadata": {
        "colab": {
          "base_uri": "https://localhost:8080/"
        },
        "id": "vIIEzZJjfpXh",
        "outputId": "271b0e1d-2dae-4fb1-f2c0-1fd2f77c6256"
      },
      "execution_count": 20,
      "outputs": [
        {
          "output_type": "execute_result",
          "data": {
            "text/plain": [
              "np.uint8(6)"
            ]
          },
          "metadata": {},
          "execution_count": 20
        }
      ]
    },
    {
      "cell_type": "code",
      "execution_count": 21,
      "metadata": {
        "id": "bOEnru5IwEJe"
      },
      "outputs": [],
      "source": [
        "tf.keras.models.save_model(model, 'cnn_model.keras')"
      ]
    },
    {
      "cell_type": "code",
      "execution_count": 20,
      "metadata": {
        "id": "XhBrhyB9aWVG"
      },
      "outputs": [],
      "source": []
    }
  ],
  "metadata": {
    "colab": {
      "provenance": [],
      "mount_file_id": "1ftdXfAxGVPYPJQwmECcr37jKdPcIYCx_",
      "authorship_tag": "ABX9TyMNDyt+d/QCVLlTlSRX3mf0",
      "include_colab_link": true
    },
    "kernelspec": {
      "display_name": "Python 3",
      "name": "python3"
    },
    "language_info": {
      "name": "python"
    }
  },
  "nbformat": 4,
  "nbformat_minor": 0
}